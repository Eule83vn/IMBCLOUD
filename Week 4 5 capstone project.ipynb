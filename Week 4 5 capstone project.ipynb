{
    "cells": [
        {
            "cell_type": "markdown",
            "metadata": {
                "collapsed": true
            },
            "source": "# 1. Introduction where you discuss the business problem and who would be interested in this project.\nAn Asian businessman is looking for a chance to invest overseas. He is interested in 2 famous cities in the world is Manhattan, NY and Toronto, CA. He want to book the bussiness trip to one city. Because he brings his family in this trip so he wanna find most suitbable city for both traveling and business purpose. "
        },
        {
            "cell_type": "markdown",
            "metadata": {},
            "source": "# 2. Data where you describe the data that will be used to solve the problem and the source of the data. "
        },
        {
            "cell_type": "markdown",
            "metadata": {},
            "source": "# 3. Methodology section which represents the main component of the report where you discuss and describe any exploratory data analysis that you did, any inferential statistical testing that you performed, if any, and what machine learnings were used and why."
        },
        {
            "cell_type": "markdown",
            "metadata": {},
            "source": "# 4. Results section where you discuss the results."
        },
        {
            "cell_type": "markdown",
            "metadata": {},
            "source": "#  5. Discussion section where you discuss any observations you noted and any recommendations you can make based on the results"
        },
        {
            "cell_type": "markdown",
            "metadata": {},
            "source": "# 6. Conclusion section where you conclude the report."
        }
    ],
    "metadata": {
        "kernelspec": {
            "display_name": "Python 3.6",
            "language": "python",
            "name": "python3"
        },
        "language_info": {
            "codemirror_mode": {
                "name": "ipython",
                "version": 3
            },
            "file_extension": ".py",
            "mimetype": "text/x-python",
            "name": "python",
            "nbconvert_exporter": "python",
            "pygments_lexer": "ipython3",
            "version": "3.6.9"
        }
    },
    "nbformat": 4,
    "nbformat_minor": 1
}